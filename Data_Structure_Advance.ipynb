{
 "cells": [
  {
   "cell_type": "markdown",
   "id": "a73b3377-85f8-4736-88fa-4bc537f9e6a5",
   "metadata": {},
   "source": [
    "Q1) Write a code to reverse a string."
   ]
  },
  {
   "cell_type": "code",
   "execution_count": 2,
   "id": "f110cd30-3c07-469d-bbdf-98338a65b81d",
   "metadata": {},
   "outputs": [
    {
     "name": "stdout",
     "output_type": "stream",
     "text": [
      "E,D,C,B,A\n",
      "E,D,C,B,A\n",
      "E,D,C,B,A\n"
     ]
    }
   ],
   "source": [
    "# Using slicing.\n",
    "def reverse_string(s):\n",
    "    return s[::-1]\n",
    "input_string = \"A,B,C,D,E\"\n",
    "reversed_string = reverse_string(input_string)\n",
    "print(reversed_string)\n",
    "#using loop\n",
    "def reverse_string(s):\n",
    "    reversed_string = \"\"\n",
    "    for char in s:\n",
    "        reversed_string = char + reversed_string\n",
    "    return reversed_string\n",
    "reversed_string = reverse_string(input_string)\n",
    "print(reversed_string)\n",
    "#using reversed() function.\n",
    "def reverse_string(s):\n",
    "    return ''.join(reversed(s))\n",
    "reversed_string = reverse_string(input_string)\n",
    "print(reversed_string)\n"
   ]
  },
  {
   "cell_type": "markdown",
   "id": "19ee4e44-c58e-49bb-82df-055a83f7ef76",
   "metadata": {},
   "source": [
    "Q2) Write a code to count the number of vowels in a string.\n",
    "\n",
    "Ans) using list comprehension"
   ]
  },
  {
   "cell_type": "code",
   "execution_count": 4,
   "id": "671f382c-fea0-4984-8df5-45b9ec194124",
   "metadata": {},
   "outputs": [
    {
     "name": "stdout",
     "output_type": "stream",
     "text": [
      "20\n"
     ]
    }
   ],
   "source": [
    "def count_vowels(s):\n",
    "    vowels = \"aeiouAEIOU\"\n",
    "    return sum(1 for char in s if char in vowels)\n",
    "input_string = \"This is a sample sentence to count the number of vowels in a string\"\n",
    "vowel_count = count_vowels(input_string)\n",
    "print(vowel_count)"
   ]
  },
  {
   "cell_type": "markdown",
   "id": "fe8659bf-7cd8-4b2e-8c09-58503ea00032",
   "metadata": {},
   "source": [
    "Q3) Write a code to check if a given string is palindrome or not.\n",
    "\n",
    "Ans) using loop"
   ]
  },
  {
   "cell_type": "code",
   "execution_count": 6,
   "id": "fda833eb-2c8a-440b-a99f-035ac17823f6",
   "metadata": {},
   "outputs": [
    {
     "name": "stdout",
     "output_type": "stream",
     "text": [
      "True\n"
     ]
    }
   ],
   "source": [
    "def is_palindrome(s):\n",
    "    cleaned_string = ''.join(char.lower() for char in s if char.isalnum())\n",
    "    left, right = 0, len(cleaned_string) - 1\n",
    "    while left < right:\n",
    "        if cleaned_string[left] != cleaned_string[right]:\n",
    "            return False\n",
    "        left += 1\n",
    "        right -= 1\n",
    "    return True\n",
    "input_string = \"A man, a plan, a canal — Panama!\"\n",
    "print(is_palindrome(input_string))"
   ]
  },
  {
   "cell_type": "markdown",
   "id": "88f9bf6c-accb-4478-a718-6c72b1d92aac",
   "metadata": {},
   "source": [
    "Q4) Write a code to check if two given strings are anagrams of each other."
   ]
  },
  {
   "cell_type": "code",
   "execution_count": 8,
   "id": "6247d9d2-9419-4a1f-9db6-8e960c7f7963",
   "metadata": {},
   "outputs": [
    {
     "name": "stdout",
     "output_type": "stream",
     "text": [
      "True\n"
     ]
    }
   ],
   "source": [
    "def are_anagrams(string1, string2):\n",
    "    def build_char_count(s):\n",
    "        count = {}\n",
    "        for char in s:\n",
    "            count[char] = count.get(char,0) +1\n",
    "        return count\n",
    "    cleaned_string1 = ''.join(char.lower() for char in string1 if char.isalnum())\n",
    "    cleaned_string2 = ''.join(char.lower() for char in string2 if char.isalnum())\n",
    "    return build_char_count(cleaned_string1) == build_char_count(cleaned_string2)\n",
    "string1 = \"HEART\"\n",
    "string2 = \"EARTH\"\n",
    "print(are_anagrams(string1, string2))"
   ]
  },
  {
   "cell_type": "markdown",
   "id": "c34641d0-87c6-43a0-8a6d-bf4f2cffd827",
   "metadata": {},
   "source": [
    "Q5) Write a code to find all occurrences of a given substring within another string."
   ]
  },
  {
   "cell_type": "code",
   "execution_count": 10,
   "id": "28b40032-eb89-4e3c-a304-e274180e0be9",
   "metadata": {},
   "outputs": [
    {
     "name": "stdout",
     "output_type": "stream",
     "text": [
      "[7, 53, 76]\n"
     ]
    }
   ],
   "source": [
    "def find_substring_occurrences(string, substring):\n",
    "    occurrences = []\n",
    "    start = 0\n",
    "    while True:\n",
    "        start = string.find(substring, start)\n",
    "        if start == -1:\n",
    "            break\n",
    "        occurrences.append(start)\n",
    "        start += 1\n",
    "    return occurrences\n",
    "string = \"this a sample string to test how many times the word sample appears in this sample string\"\n",
    "substring = \"sample\"\n",
    "occurrences = find_substring_occurrences(string, substring)\n",
    "print(occurrences)"
   ]
  },
  {
   "cell_type": "markdown",
   "id": "9ecb6504-3e82-42b4-a59f-03cb0ab19401",
   "metadata": {},
   "source": [
    "Q6) write a code to perform basic string compression using the counts of repeated characters."
   ]
  },
  {
   "cell_type": "code",
   "execution_count": 12,
   "id": "44c113ef-4d7e-4de5-9578-b41b5e9f6fee",
   "metadata": {},
   "outputs": [
    {
     "name": "stdout",
     "output_type": "stream",
     "text": [
      "s12j12h10a4z1x1\n"
     ]
    }
   ],
   "source": [
    "def compress_string(s):\n",
    "    if not s:\n",
    "        return \"\"\n",
    "    compressed = []\n",
    "    count = 1\n",
    "    for i in range(1, len(s)):\n",
    "        if s[i] == s[i-1]:\n",
    "            count += 1\n",
    "        else:\n",
    "            compressed.append(s[i-1] + str(count))\n",
    "            count = 1\n",
    "    compressed.append(s[-1] + str(count))\n",
    "    compressed_string = ''.join(compressed)\n",
    "    return compressed_string if len(compressed_string) < len(s) else s\n",
    "s = \"ssssssssssssjjjjjjjjjjjjhhhhhhhhhhaaaazx\"\n",
    "compressed = compress_string(s)\n",
    "print( compressed)"
   ]
  },
  {
   "cell_type": "markdown",
   "id": "a21ae375-33ea-4fc6-86ff-959219134362",
   "metadata": {},
   "source": [
    "Q7) Write a code to determine if a string has all unique characters."
   ]
  },
  {
   "cell_type": "code",
   "execution_count": 14,
   "id": "799c9aba-5c35-4cd6-9d41-82fbe6d2e4be",
   "metadata": {},
   "outputs": [
    {
     "name": "stdout",
     "output_type": "stream",
     "text": [
      "True\n",
      "False\n"
     ]
    }
   ],
   "source": [
    "def has_unique_characters(s):\n",
    "    seen_characters = set()\n",
    "    for char in s:\n",
    "        if char in seen_characters:\n",
    "            return False\n",
    "        seen_characters.add(char)\n",
    "    return True\n",
    "s = \"abcd\"\n",
    "result = has_unique_characters(s)\n",
    "print(result)\n",
    "s = \"aabbccdd\"\n",
    "result = has_unique_characters(s)\n",
    "print(result)"
   ]
  },
  {
   "cell_type": "markdown",
   "id": "df421d9b-a607-4fc9-a815-c997da32cff1",
   "metadata": {},
   "source": [
    "Q8) Write a code to convert a given string to uppercase or lowercase."
   ]
  },
  {
   "cell_type": "code",
   "execution_count": 16,
   "id": "faa02435-9bda-4231-902c-a05e6aeb0ff5",
   "metadata": {},
   "outputs": [
    {
     "name": "stdout",
     "output_type": "stream",
     "text": [
      "uppercase: HEY GOOGLE\n",
      "__________________________________\n",
      "lowercase: hey google\n"
     ]
    }
   ],
   "source": [
    "def convert_to_uppercase(s):\n",
    "    return s.upper()\n",
    "s = \"hey google\"\n",
    "uppercase_string = convert_to_uppercase(s)\n",
    "print(\"uppercase:\", uppercase_string)\n",
    "\n",
    "print(\"__________________________________\")\n",
    "\n",
    "def convert_to_lowercase(s):\n",
    "    return s.lower()\n",
    "s = \"HEY GOOGLE\"\n",
    "lowercase_string = convert_to_lowercase(s)\n",
    "print(\"lowercase:\", lowercase_string)\n",
    "\n"
   ]
  },
  {
   "cell_type": "markdown",
   "id": "8b0a8a81-702c-4100-874f-150ca32c0a4e",
   "metadata": {},
   "source": [
    "Q9) Write a code to count the number of words in a string."
   ]
  },
  {
   "cell_type": "code",
   "execution_count": 18,
   "id": "27cf9401-6c17-4f47-a109-22f51f423c51",
   "metadata": {},
   "outputs": [
    {
     "name": "stdout",
     "output_type": "stream",
     "text": [
      "number of words are: 7\n"
     ]
    }
   ],
   "source": [
    "def count_words(s):\n",
    "    words = s.split()\n",
    "    return len(words)\n",
    "s = (\"Namaste, welcome to the world of wonders\")\n",
    "words_count = count_words(s)\n",
    "print(\"number of words are:\", words_count)"
   ]
  },
  {
   "cell_type": "markdown",
   "id": "fefeff7c-888c-46e6-aefd-a8964e11de3f",
   "metadata": {},
   "source": [
    "Q10) Write a code to concatenate two strings without using the + operator."
   ]
  },
  {
   "cell_type": "code",
   "execution_count": 20,
   "id": "cbcd07ea-e56d-43ae-8097-a19f46e93147",
   "metadata": {},
   "outputs": [
    {
     "name": "stdout",
     "output_type": "stream",
     "text": [
      "this string is concatenated using .join function\n"
     ]
    }
   ],
   "source": [
    "def concatenate_strings_join(string1, string2):\n",
    "    return ''.join([string1, string2])\n",
    "string1 = \"this string \"\n",
    "string2 = (\"is concatenated using .join function\")\n",
    "result = concatenate_strings_join(string1, string2)\n",
    "print(result)"
   ]
  },
  {
   "cell_type": "markdown",
   "id": "cba7dd32-3750-47fd-a974-53d6e28855b7",
   "metadata": {},
   "source": [
    "Q11) Write a code to remove all occurrences of a specific elements from a list."
   ]
  },
  {
   "cell_type": "code",
   "execution_count": 22,
   "id": "1b24047c-9b60-4d39-bce5-c835bfd47842",
   "metadata": {},
   "outputs": [
    {
     "name": "stdout",
     "output_type": "stream",
     "text": [
      "list after removal using filter(): [1, 2, 3, 5, 6]\n"
     ]
    }
   ],
   "source": [
    "def remove_occurrences_filter(lst, element):\n",
    "    return list(filter(lambda x : x != element, lst))\n",
    "lst = [1,2,3,4,4,4,4,4,4,4,5,6]\n",
    "element_to_remove = 4\n",
    "result = remove_occurrences_filter(lst, element_to_remove)\n",
    "print(\"list after removal using filter():\", result)"
   ]
  },
  {
   "cell_type": "markdown",
   "id": "2930a50e-1efc-4b07-91d3-70600d65e7d7",
   "metadata": {},
   "source": [
    "Q12) Implement a code to find the second largest number in a given list of integers."
   ]
  },
  {
   "cell_type": "code",
   "execution_count": 24,
   "id": "b41d7d88-0f80-41e5-9302-abc4c5b45fed",
   "metadata": {},
   "outputs": [
    {
     "name": "stdout",
     "output_type": "stream",
     "text": [
      "second largest number is:  60\n"
     ]
    }
   ],
   "source": [
    "def find_second_largest(nums):\n",
    "    if len(nums) < 2:\n",
    "        return None\n",
    "    first_largest = second_largest = float('-inf') # float('-inf') used for value comparison.\n",
    "    for num in nums:\n",
    "        if num > first_largest:\n",
    "            second_largest = first_largest\n",
    "            first_largest = num\n",
    "        elif num > second_largest and num != first_largest:\n",
    "            second_largest = num\n",
    "    return second_largest if second_largest != float('-inf') else None\n",
    "nums = [10,20,30,15,25,60,90,5]\n",
    "second_largest = find_second_largest(nums)\n",
    "print(\"second largest number is: \", second_largest)"
   ]
  },
  {
   "cell_type": "markdown",
   "id": "6c0a6f39-20f6-4be7-a622-172eb9efae95",
   "metadata": {},
   "source": [
    "Q13) Create a code to count the occurrences of each element in a list and return a dictionary keys and their counts as values.\n",
    "\n",
    "Ans) using collections.Counter"
   ]
  },
  {
   "cell_type": "code",
   "execution_count": 26,
   "id": "c2f3032a-aa3a-43ba-99dd-3e6d694e5c5c",
   "metadata": {},
   "outputs": [
    {
     "name": "stdout",
     "output_type": "stream",
     "text": [
      "occurrences of each element: {10: 2, 20: 2, 30: 2, 40: 1, 50: 1}\n"
     ]
    }
   ],
   "source": [
    "from collections import Counter\n",
    "def count_occurrences(lst):\n",
    "    return dict(Counter(lst))\n",
    "lst = [10,20,30,40,50,30,20,10]\n",
    "occurrences = count_occurrences(lst)\n",
    "print(\"occurrences of each element:\", occurrences)"
   ]
  },
  {
   "cell_type": "markdown",
   "id": "03babce5-79f5-40c0-9fc7-a2723e0c9f6f",
   "metadata": {},
   "source": [
    "Q14) Write a code to reverse a list in-place without using any built-in reverse functions."
   ]
  },
  {
   "cell_type": "code",
   "execution_count": 28,
   "id": "d479ccee-9f71-41d2-94b5-05f010513c4d",
   "metadata": {},
   "outputs": [
    {
     "name": "stdout",
     "output_type": "stream",
     "text": [
      "reversed list is:  [5, 4, 3, 2, 1, 'e', 'd', 'c', 'b', 'a']\n"
     ]
    }
   ],
   "source": [
    "def reverse_list_in_place(lst):\n",
    "    left = 0\n",
    "    right = len(lst) -1\n",
    "    while left < right:\n",
    "        lst[left], lst[right] = lst[right], lst[left]\n",
    "        left +=1\n",
    "        right -=1\n",
    "lst = ['a','b','c','d','e',1,2,3,4,5]\n",
    "reverse_list_in_place(lst)\n",
    "print(\"reversed list is: \", lst)"
   ]
  },
  {
   "cell_type": "markdown",
   "id": "ec4f5a34-bcf0-461e-aaee-8b6a14c173d2",
   "metadata": {},
   "source": [
    "Q15) implement a code to find and remove duplicates from a list while preserving the original order of elements."
   ]
  },
  {
   "cell_type": "code",
   "execution_count": 30,
   "id": "1b7d3d17-fbcf-42fa-bdb9-d3bc20bc59d4",
   "metadata": {},
   "outputs": [
    {
     "name": "stdout",
     "output_type": "stream",
     "text": [
      "[1, 2, 3, 4, 5, 6, 7, 8, 9]\n"
     ]
    }
   ],
   "source": [
    "def remove_duplicates(lst):\n",
    "    seen = set()\n",
    "    result = []\n",
    "    for item in lst:\n",
    "        if item not in seen:\n",
    "            result.append(item)\n",
    "            seen.add(item)\n",
    "    return result\n",
    "lst = [1,2,3,4,5,5,5,6,7,7,8,9,1,2,3]\n",
    "unique_list = remove_duplicates(lst)\n",
    "print(unique_list)"
   ]
  },
  {
   "cell_type": "markdown",
   "id": "7c5f894a-4a36-42bb-8351-63d78ebc3b87",
   "metadata": {},
   "source": [
    "Q16) Create a code to check if a given list is sorted (either in ascending or descending order)or not."
   ]
  },
  {
   "cell_type": "code",
   "execution_count": 32,
   "id": "b3c4b12e-75d1-415b-a2bd-636daabca603",
   "metadata": {},
   "outputs": [
    {
     "name": "stdout",
     "output_type": "stream",
     "text": [
      "is list1 sorted True\n",
      "is list2 sorted True\n",
      "is list3 sorted False\n"
     ]
    }
   ],
   "source": [
    "def is_sorted(lst):\n",
    "    if len(lst) <2:\n",
    "        return True\n",
    "    ascending = all(lst[i] <=lst[i + 1] for i in range(len(lst) - 1))\n",
    "    desending = all(lst[i] >=lst[i + 1] for i in range(len(lst) - 1))\n",
    "    return ascending or desending\n",
    "lst1 = [1,2,3,4,5]\n",
    "lst2 = [5,4,3,2,1]\n",
    "lst3 = [854,709,309,578,924]\n",
    "print(\"is list1 sorted\", is_sorted(lst1))\n",
    "print(\"is list2 sorted\",is_sorted(lst2))\n",
    "print(\"is list3 sorted\",is_sorted(lst3))"
   ]
  },
  {
   "cell_type": "markdown",
   "id": "7f16ecd2-2135-4da4-bcdc-8ea1dbda72c0",
   "metadata": {},
   "source": [
    "Q17) Write a code to merge two sorted lists into a single sorted list."
   ]
  },
  {
   "cell_type": "code",
   "execution_count": 34,
   "id": "c77e99c1-d84d-4e20-b539-fd34c81d6b79",
   "metadata": {},
   "outputs": [
    {
     "name": "stdout",
     "output_type": "stream",
     "text": [
      "merged sorted list: [1, 2, 3, 4, 5, 6, 7, 8, 9, 10]\n"
     ]
    }
   ],
   "source": [
    "def merge_sorted_lsts(lst1, lst2):\n",
    "    merged_lst = []\n",
    "    i, j = 0,0\n",
    "    while i < len(lst1) and j < len(lst2):\n",
    "        if lst1[i] < lst2[j]:\n",
    "            merged_lst.append(lst1[i])\n",
    "            i +=1\n",
    "        else:\n",
    "            merged_lst.append(lst2[j])\n",
    "            j += 1\n",
    "    while i < len(lst1):\n",
    "        merged_lst.append(lst.append(lst1[i]))\n",
    "        i += 1\n",
    "    while j < len(lst2):\n",
    "        merged_lst.append(lst2[j])\n",
    "        j += 1\n",
    "    return merged_lst\n",
    "lst1 = [1,2,5,6,8,9]\n",
    "lst2 = [3,4,7,10]\n",
    "merged_lst = merge_sorted_lsts(lst1, lst2)\n",
    "print(\"merged sorted list:\", merged_lst)"
   ]
  },
  {
   "cell_type": "markdown",
   "id": "1a3c5be8-b3bc-49c9-9087-235bc958678f",
   "metadata": {},
   "source": [
    "Q18) Implement a code to find the intresection of two given lists."
   ]
  },
  {
   "cell_type": "code",
   "execution_count": 36,
   "id": "91f6025b-b31f-41b7-bb95-18851fe5c322",
   "metadata": {},
   "outputs": [
    {
     "name": "stdout",
     "output_type": "stream",
     "text": [
      "[5, 6]\n"
     ]
    }
   ],
   "source": [
    "def find_intersection(list1,list2):\n",
    "    set1 = set(list1)\n",
    "    set2 = set(list2)\n",
    "    intersection = set1.intersection(set2)\n",
    "    return list(intersection)\n",
    "list1 = [1,2,3,4,5,6]\n",
    "list2 = [5,6,7,8,9,0]\n",
    "result = find_intersection(list1, list2)\n",
    "print(result)"
   ]
  },
  {
   "cell_type": "markdown",
   "id": "b5ae8a9d-22e2-42a2-91d0-0c9a89d7cff8",
   "metadata": {},
   "source": [
    "Q19) Create a code to find the union of two lists without duplicates."
   ]
  },
  {
   "cell_type": "code",
   "execution_count": 38,
   "id": "d167badd-461f-4010-ae17-3a833fce9458",
   "metadata": {},
   "outputs": [
    {
     "name": "stdout",
     "output_type": "stream",
     "text": [
      "[0, 1, 2, 3, 4, 5, 6, 7, 8, 9]\n"
     ]
    }
   ],
   "source": [
    "def find_union(list1, list2):\n",
    "    set1 = set(list1)\n",
    "    set2 = set(list2)\n",
    "    union = set1.union(set2)\n",
    "    return list(union)\n",
    "list1 = [1,2,3,4,5,6]\n",
    "list2 = [5,6,7,8,9,0]\n",
    "result = find_union(list1,list2)\n",
    "print(result)"
   ]
  },
  {
   "cell_type": "markdown",
   "id": "63dc2828-64d8-492d-ad83-7b3d00dc924e",
   "metadata": {},
   "source": [
    "Q20) Write a code to shuffle a given list randomely without using any built-in shuffle functions."
   ]
  },
  {
   "cell_type": "code",
   "execution_count": 40,
   "id": "00914a84-ac95-4ca7-a98b-94af48180f09",
   "metadata": {},
   "outputs": [
    {
     "name": "stdout",
     "output_type": "stream",
     "text": [
      "shuffle list:  [0, 2, 9, 7, 4, 5, 1, 3, 6, 8]\n"
     ]
    }
   ],
   "source": [
    "import random\n",
    "def shuffle_list(lst):\n",
    "    x = len(lst)\n",
    "    for i in range(x - 1, 0, -1):\n",
    "        j = random.randint(0,i)\n",
    "        lst[i], lst[j] = lst[j], lst[i]\n",
    "lst = [1,2,3,4,5,6,7,8,9,0]\n",
    "shuffle_list(lst)\n",
    "print(\"shuffle list: \", lst)"
   ]
  },
  {
   "cell_type": "markdown",
   "id": "00bcf2c9-6b9d-489b-bf82-9d604df670ac",
   "metadata": {},
   "source": [
    "Q21) Write a code that takes two tuples as input and returns a new tuple containing elements that are common to both input tuples."
   ]
  },
  {
   "cell_type": "code",
   "execution_count": 42,
   "id": "9ff2f7e9-6481-42c5-8e7e-adfba221d978",
   "metadata": {},
   "outputs": [
    {
     "name": "stdout",
     "output_type": "stream",
     "text": [
      "common elements are:  (3, 4, 5)\n"
     ]
    }
   ],
   "source": [
    "def common_elements(tuple1,tuple2):\n",
    "    set1 = set(tuple1)\n",
    "    set2 = set(tuple2)\n",
    "    common_set = set1.intersection(set2)\n",
    "    return tuple(common_set)\n",
    "tuple1 = (1,2,3,4,5)\n",
    "tuple2 = (3,4,5,6,7)\n",
    "result = common_elements(tuple1, tuple2)\n",
    "print(\"common elements are: \", result)"
   ]
  },
  {
   "cell_type": "markdown",
   "id": "7f0dc699-5a9e-440b-bea6-70b9e8454abe",
   "metadata": {},
   "source": [
    "Q22) Create a code that prompts the user to enter two sets of integers separated by commas. then, print the intersection of these two sets."
   ]
  },
  {
   "cell_type": "code",
   "execution_count": 44,
   "id": "4239e74f-1023-4912-b5b8-dcfbba19c1cd",
   "metadata": {},
   "outputs": [
    {
     "name": "stdin",
     "output_type": "stream",
     "text": [
      "Enter the first set of integers which are seperated by commas:  1,2,3,4,5,6\n",
      "Enter the second set of integers which are seperated by commas:  5,6,7,8,9,0\n"
     ]
    },
    {
     "name": "stdout",
     "output_type": "stream",
     "text": [
      "intersection of the two given sets are:  {5, 6}\n"
     ]
    }
   ],
   "source": [
    "def get_set_from_input(prompt):\n",
    "    input_str = input(prompt)\n",
    "    input_list = input_str.split(',')\n",
    "    input_set = {int(num.strip()) for num in input_list}\n",
    "    return input_set\n",
    "set1 = get_set_from_input(\"Enter the first set of integers which are seperated by commas: \")\n",
    "set2 = get_set_from_input(\"Enter the second set of integers which are seperated by commas: \")\n",
    "intersection_set = set1.intersection(set2)\n",
    "print(\"intersection of the two given sets are: \", intersection_set)"
   ]
  },
  {
   "cell_type": "markdown",
   "id": "bdbf340a-a642-4b81-accf-ffe29537bf43",
   "metadata": {},
   "source": [
    "Q23) Write a code to concatenate two tuples. the function should take as input and return a new tuple containing elements from both input tuples."
   ]
  },
  {
   "cell_type": "code",
   "execution_count": 46,
   "id": "014e83da-a581-4e70-b779-9ecf4cb65e49",
   "metadata": {},
   "outputs": [
    {
     "name": "stdout",
     "output_type": "stream",
     "text": [
      "(10, 20, 30, 40, 50, 60, 70, 80, 90, 100)\n"
     ]
    }
   ],
   "source": [
    "def concatenate_tuples(tuple1, tuple2):\n",
    "    result = tuple1 + tuple2\n",
    "    return result\n",
    "tuple1 = (10,20,30,40,50)\n",
    "tuple2 = (60,70,80,90,100)\n",
    "concatenated_tuple = concatenate_tuples(tuple1, tuple2)\n",
    "print(concatenated_tuple)"
   ]
  },
  {
   "cell_type": "markdown",
   "id": "76c48587-7ed9-4db0-931d-f5ee399a3a5e",
   "metadata": {},
   "source": [
    "Q24) Develop a code that prompts the user to input two sets of string. Then, print the elements that are present in the first set but not in the second set."
   ]
  },
  {
   "cell_type": "code",
   "execution_count": 48,
   "id": "b3fb97fa-6289-40b0-8254-895168dca7ef",
   "metadata": {},
   "outputs": [
    {
     "name": "stdin",
     "output_type": "stream",
     "text": [
      "Enter the first set of strings seperated by commas):  apple, banana, kiwi, mellons\n",
      "enter second set of strings seperated by commas):  apple, grapes, oranges, pineapple\n"
     ]
    },
    {
     "name": "stdout",
     "output_type": "stream",
     "text": [
      "Elements which are present in first set but not in the second set are:  {'banana', 'mellons', 'kiwi'}\n"
     ]
    }
   ],
   "source": [
    "def get_set_from_input(prompt):\n",
    "    input_str = input(prompt)\n",
    "    input_list = input_str.split(',')\n",
    "    input_set = {s.strip() for s in input_list}\n",
    "    return input_set\n",
    "set1 = get_set_from_input(\"Enter the first set of strings seperated by commas): \")\n",
    "set2 = get_set_from_input(\"enter second set of strings seperated by commas): \")\n",
    "difference_set = set1.difference(set2)\n",
    "print(\"Elements which are present in first set but not in the second set are: \", difference_set)"
   ]
  },
  {
   "cell_type": "markdown",
   "id": "6bd8c729-84cf-4d34-881e-0e5706504c62",
   "metadata": {},
   "source": [
    "Q25) Create a code that takes a tuple and two integers as input. The function should return a new tuple containing elements from the original tuple within the specified range of indices."
   ]
  },
  {
   "cell_type": "code",
   "execution_count": 50,
   "id": "6f3ce853-c369-4542-984a-67337ed6a6cc",
   "metadata": {},
   "outputs": [
    {
     "name": "stdout",
     "output_type": "stream",
     "text": [
      "original tuple (1, 2, 3, 4, 5, 6, 7, 8, 9)\n",
      "Elements of index 4 to 7: (5, 6, 7)\n"
     ]
    }
   ],
   "source": [
    "def slice_tuple(input_tuple, start_index, end_index):\n",
    "    return input_tuple[start_index:end_index]\n",
    "original_tuple = (1,2,3,4,5,6,7,8,9)\n",
    "start_index = 4\n",
    "end_index = 7\n",
    "sliced_tuple = slice_tuple(original_tuple, start_index, end_index)\n",
    "print(\"original tuple\", original_tuple)\n",
    "print(f\"Elements of index {start_index} to {end_index}:\", sliced_tuple)"
   ]
  },
  {
   "cell_type": "markdown",
   "id": "b8e6618b-9a65-472e-8790-84ce0791b0ff",
   "metadata": {},
   "source": [
    "Q26) Write a code that prompts the user to input two sets of characters. Then, print the union of these two sets."
   ]
  },
  {
   "cell_type": "code",
   "execution_count": 52,
   "id": "0ad5101c-3dff-402d-bf90-a088fe6f5e2e",
   "metadata": {},
   "outputs": [
    {
     "name": "stdin",
     "output_type": "stream",
     "text": [
      "enter first set of char including commas:  a, b, c, d, e, f\n",
      "enter second set of char includung commas:  g, h, i, j, k, l\n"
     ]
    },
    {
     "name": "stdout",
     "output_type": "stream",
     "text": [
      "union set is:  {'e', 'l', 'k', 'd', 'i', 'c', 'j', 'g', 'h', 'f', 'b', 'a'}\n"
     ]
    }
   ],
   "source": [
    "def get_set_from_input(prompt):\n",
    "    input_str = input(prompt)\n",
    "    input_list = input_str.split(',')\n",
    "    input_set = {char.strip() for char in input_list}\n",
    "    return input_set\n",
    "set1 = get_set_from_input(\"enter first set of char including commas: \")\n",
    "set2 = get_set_from_input(\"enter second set of char includung commas: \")\n",
    "union_set = set1.union(set2)\n",
    "print(\"union set is: \", union_set)"
   ]
  },
  {
   "cell_type": "markdown",
   "id": "5cb88f9a-ab48-4a8d-96cb-85b31320dfbf",
   "metadata": {},
   "source": [
    "Q27) Develop a code that takes a tuple of integers as input. The function should return the maximum and the minimum values from the tuple using unpacking."
   ]
  },
  {
   "cell_type": "code",
   "execution_count": 54,
   "id": "6c0d264d-3473-4508-9810-d8e5cf043999",
   "metadata": {},
   "outputs": [
    {
     "name": "stdout",
     "output_type": "stream",
     "text": [
      "Tuple:  (1, 2, 9, 7, 4, 8, 0)\n",
      "Max value:  9\n",
      "min value:  0\n"
     ]
    }
   ],
   "source": [
    "def find_max_min(input_tuple):\n",
    "    max_value, min_value = max(input_tuple), min(input_tuple)\n",
    "    return max_value, min_value\n",
    "numbers = (1,2,9,7,4,8,0)\n",
    "max_val, min_val = find_max_min(numbers)\n",
    "print(\"Tuple: \", numbers)\n",
    "print(\"Max value: \", max_val)\n",
    "print(\"min value: \", min_val)"
   ]
  },
  {
   "cell_type": "markdown",
   "id": "58426340-f9b5-49e2-a764-566b91d538b4",
   "metadata": {},
   "source": [
    "Q28) Create a code that defines two sets of integers. Then, print the union, intersection, and difference of these two sets."
   ]
  },
  {
   "cell_type": "code",
   "execution_count": 56,
   "id": "9b1368f7-a527-4a17-a37d-fb69c701d964",
   "metadata": {},
   "outputs": [
    {
     "name": "stdout",
     "output_type": "stream",
     "text": [
      "union set:  {0, 1, 2, 3, 4, 5, 6, 7, 8, 9}\n",
      "intersection set:  {5, 6}\n",
      "difference set:  {1, 2, 3, 4}\n"
     ]
    }
   ],
   "source": [
    "set1 = {1,2,3,4,5,6}\n",
    "set2 = {5,6,7,8,9,0}\n",
    "union_set = set1.union(set2)\n",
    "intersection_set = set1.intersection(set2)\n",
    "difference_set = set1.difference(set2)\n",
    "print(\"union set: \", union_set)\n",
    "print(\"intersection set: \", intersection_set)\n",
    "print(\"difference set: \", difference_set)"
   ]
  },
  {
   "cell_type": "markdown",
   "id": "22c6a878-45f3-4974-824f-37dbde4787d2",
   "metadata": {},
   "source": [
    "Q29) Write a code that takes a tuple and a element as input. The function should return the count of occurrences of the given element in the tuple."
   ]
  },
  {
   "cell_type": "code",
   "execution_count": 58,
   "id": "500c98fb-1180-42e9-9828-a47d7bc0b35e",
   "metadata": {},
   "outputs": [
    {
     "name": "stdout",
     "output_type": "stream",
     "text": [
      "tuple:  (4, 2, 3, 1, 1, 2, 3, 5, 6, 4, 2, 4, 4)\n",
      "occurrences count 4: 4\n"
     ]
    }
   ],
   "source": [
    "def count_occurrences(input_tuple, element):\n",
    "    count = input_tuple.count(element)\n",
    "    return count\n",
    "my_tuple = (4,2,3,1,1,2,3,5,6,4,2,4,4)\n",
    "element_to_count = 4\n",
    "occurrences = count_occurrences(my_tuple, element_to_count)\n",
    "print(\"tuple: \", my_tuple)\n",
    "print(f\"occurrences count {element_to_count}:\", occurrences)"
   ]
  },
  {
   "cell_type": "markdown",
   "id": "42389009-e710-42eb-894a-32ced49f5c98",
   "metadata": {},
   "source": [
    "Q30) Develop a code that prompts the user to input two sets of strings. Then, print the symmetric difference of these two sets."
   ]
  },
  {
   "cell_type": "code",
   "execution_count": 60,
   "id": "afbfbd35-45a8-4633-94cf-10ac8bc4377f",
   "metadata": {},
   "outputs": [
    {
     "name": "stdin",
     "output_type": "stream",
     "text": [
      "Enter first set of strings with commas:  apple, banana, kiwi, grapes\n",
      "Enter second set of strings with commas:  apple, oranges, mellons, kiwi\n"
     ]
    },
    {
     "name": "stdout",
     "output_type": "stream",
     "text": [
      "symmetric difference of tow give sets are:  {'oranges', 'banana', 'mellons', 'grapes'}\n"
     ]
    }
   ],
   "source": [
    "def get_set_from_input(prompt):\n",
    "    input_str = input(prompt)\n",
    "    input_list = input_str.split(',')\n",
    "    input_set = {s.strip() for s in input_list}\n",
    "    return input_set\n",
    "set1 = get_set_from_input(\"Enter first set of strings with commas: \")\n",
    "set2 = get_set_from_input(\"Enter second set of strings with commas: \")\n",
    "symmetric_difference_set = set1.symmetric_difference(set2)\n",
    "print(\"symmetric difference of two given sets are: \", symmetric_difference_set)"
   ]
  },
  {
   "cell_type": "markdown",
   "id": "a1bd66cb-894a-4913-ad59-1dd6facd5f0f",
   "metadata": {},
   "source": [
    "Q31) Write a code that takes a list of words as input and returns a dictionary where the keys are unique words and the values are the frequencies of those words in the input list."
   ]
  },
  {
   "cell_type": "code",
   "execution_count": 104,
   "id": "4343c14c-4757-4aae-96d7-12433b5c182f",
   "metadata": {},
   "outputs": [
    {
     "name": "stdout",
     "output_type": "stream",
     "text": [
      "words list:  ['apple', 'banana', 'apple', 'banana', 'mellons', 'oranges', 'mellons', 'oranges']\n",
      "frequency dictionary of words:  {'apple': 2, 'banana': 2, 'mellons': 2, 'oranges': 2}\n"
     ]
    }
   ],
   "source": [
    "def word_frequency(words_list):\n",
    "    frequency_dict = {}\n",
    "    for word in words_list:\n",
    "        if word in frequency_dict:\n",
    "            frequency_dict[word] += 1\n",
    "        else:\n",
    "            frequency_dict[word] = 1\n",
    "    return frequency_dict\n",
    "words = [\"apple\", \"banana\", \"apple\", \"banana\", \"mellons\", \"oranges\", \"mellons\", \"oranges\"]\n",
    "word_counts = word_frequency(words)\n",
    "print(\"words list: \", words)\n",
    "print(\"frequency dictionary of words: \", word_counts)\n"
   ]
  },
  {
   "cell_type": "markdown",
   "id": "efe95306-5e75-4d56-8b64-bc1c89660aab",
   "metadata": {},
   "source": [
    "Q32) Write a code that takes two dictionaries as input and merges them into a single dictionary. If there are common keys, the values should be added together."
   ]
  },
  {
   "cell_type": "code",
   "execution_count": 108,
   "id": "c32bbc55-daf0-41dd-9cd1-26ecf30c580f",
   "metadata": {},
   "outputs": [
    {
     "name": "stdout",
     "output_type": "stream",
     "text": [
      "dict1:  {'apple': 100, 'banana': 70, 'oranges': 120}\n",
      "dict2:  {'banana': 35, 'mellons': 45, 'oranges': 80}\n",
      "merged dict:  {'apple': 100, 'banana': 105, 'oranges': 200, 'mellons': 45}\n"
     ]
    }
   ],
   "source": [
    "def merge_dictionaries(dict1, dict2):\n",
    "    merged_dict = dict1.copy()\n",
    "    for key, value in dict2.items():\n",
    "        if key in merged_dict:\n",
    "            merged_dict[key] += value\n",
    "        else:\n",
    "            merged_dict[key] = value\n",
    "    return merged_dict\n",
    "dict1 = {\"apple\":100, \"banana\":70, \"oranges\":120}\n",
    "dict2 = {\"banana\":35, \"mellons\":45, \"oranges\":80}\n",
    "merged_result = merge_dictionaries(dict1, dict2)\n",
    "print(\"dict1: \", dict1)\n",
    "print(\"dict2: \", dict2)\n",
    "print(\"merged dict: \", merged_result)"
   ]
  },
  {
   "cell_type": "markdown",
   "id": "3d979618-57ec-4bad-9c17-3077ac03cecd",
   "metadata": {},
   "source": [
    "Q33) Write a code to access a value in a nested dictionary. Then function should take the dictionary and a list of keys as input, and return the corresponding value. If any of the keys do not exist in the dictionary. The function should return None."
   ]
  },
  {
   "cell_type": "code",
   "execution_count": 161,
   "id": "9a0b233d-dd61-4666-8152-a8af27d089c2",
   "metadata": {},
   "outputs": [
    {
     "name": "stdout",
     "output_type": "stream",
     "text": [
      "100\n",
      "150\n",
      "None\n"
     ]
    }
   ],
   "source": [
    "def get_nested_value(nested_dict, keys_list):\n",
    "    current_level = nested_dict\n",
    "    for key in keys_list:\n",
    "        if isinstance(current_level, dict) and key in current_level:\n",
    "            current_level = current_level[key]\n",
    "        else:\n",
    "            return None\n",
    "    return current_level\n",
    "nested_dict ={ 'a': { 'b': { 'c' : 100, 'd' : { 'e' : 150 } } } }\n",
    "\n",
    "keys_list1 = ['a', 'b', 'c']\n",
    "keys_list2 = ['a', 'b', 'd', 'e']\n",
    "keys_list3 = ['a', 'h', 'i']\n",
    "\n",
    "value1 = get_nested_value(nested_dict, keys_list1)\n",
    "value2 = get_nested_value(nested_dict, keys_list2)\n",
    "value3 = get_nested_value(nested_dict, keys_list3)\n",
    "\n",
    "print(value1)\n",
    "print(value2)\n",
    "print(value3)"
   ]
  },
  {
   "cell_type": "markdown",
   "id": "29d3a94d-3482-472a-9fbd-e52d029adc8e",
   "metadata": {},
   "source": [
    "Q34)Write a code that takes a dictionary as input and returns a sorted version of it based on the values. You can choose whether to sort in ascending or descending order."
   ]
  },
  {
   "cell_type": "code",
   "execution_count": 177,
   "id": "525d4add-975f-47a6-ad4e-d3370139211f",
   "metadata": {
    "scrolled": true
   },
   "outputs": [
    {
     "name": "stdout",
     "output_type": "stream",
     "text": [
      "assending sorted dict:  {'pen': 5, 'book': 50, 'apple': 300, 'kiwi': 500, 'bat': 2500}\n",
      "desending sorted dict:  {'bat': 2500, 'kiwi': 500, 'apple': 300, 'book': 50, 'pen': 5}\n"
     ]
    }
   ],
   "source": [
    "def sort_dict_by_values(input_dict, ascending = True):\n",
    "    sorted_items = sorted(input_dict.items(), key = lambda item: item[1], reverse = not ascending)\n",
    "    sorted_dict = dict(sorted_items)\n",
    "    return sorted_dict\n",
    "sample_dict = { 'apple' : 300, 'pen' : 5, 'kiwi' : 500, 'book' : 50, 'bat' : 2500}\n",
    "sorted_dict_asc = sort_dict_by_values(sample_dict, ascending = True)\n",
    "print(\"assending sorted dict: \", sorted_dict_asc)\n",
    "sorted_dict_desc = sort_dict_by_values(sample_dict, ascending = False)\n",
    "print(\"desending sorted dict: \", sorted_dict_desc)"
   ]
  },
  {
   "cell_type": "markdown",
   "id": "3a36f26f-59f1-4a29-89f9-aa08e57cd3d0",
   "metadata": {},
   "source": [
    "Q35) Write a code that inverts a dictionary, swapping keys and values. Ensure that the invented dictionary correctly handles cases where multiple keys have the same value by storing the keys as a list in the inverted dictionary."
   ]
  },
  {
   "cell_type": "code",
   "execution_count": 18,
   "id": "07bb1211-0df6-4495-a81f-6d25753008d2",
   "metadata": {},
   "outputs": [
    {
     "name": "stdout",
     "output_type": "stream",
     "text": [
      "orginal dict:  {'apple': 10, 'kiwi': 50, 'grapes': 100, 'blueberry': 200}\n",
      "inverted dict:  {10: ['apple'], 50: ['kiwi'], 100: ['grapes'], 200: ['blueberry']}\n"
     ]
    }
   ],
   "source": [
    "def invert_dictionary(input_dict):\n",
    "    inverted_dict = {}\n",
    "    for key, value in  input_dict.items():\n",
    "        if value in inverted_dict:\n",
    "            inverted_dict[value].append(key)\n",
    "        else:\n",
    "            inverted_dict[value] = [key]\n",
    "    return inverted_dict\n",
    "sample_dict = { 'apple' : 10, 'kiwi' :50, 'grapes' : 100, 'blueberry' : 200}\n",
    "inverted_result = invert_dictionary(sample_dict)\n",
    "print(\"orginal dict: \", sample_dict)\n",
    "print(\"inverted dict: \", inverted_result)"
   ]
  }
 ],
 "metadata": {
  "kernelspec": {
   "display_name": "Python 3 (ipykernel)",
   "language": "python",
   "name": "python3"
  },
  "language_info": {
   "codemirror_mode": {
    "name": "ipython",
    "version": 3
   },
   "file_extension": ".py",
   "mimetype": "text/x-python",
   "name": "python",
   "nbconvert_exporter": "python",
   "pygments_lexer": "ipython3",
   "version": "3.12.4"
  }
 },
 "nbformat": 4,
 "nbformat_minor": 5
}
